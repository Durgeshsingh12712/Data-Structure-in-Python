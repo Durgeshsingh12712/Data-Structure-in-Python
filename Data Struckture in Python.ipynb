{
 "cells": [
  {
   "cell_type": "markdown",
   "metadata": {},
   "source": [
    "                                                   ASSIGNMENTS : (Data Structures in Python)          "
   ]
  },
  {
   "cell_type": "code",
   "execution_count": 6,
   "metadata": {},
   "outputs": [],
   "source": [
    "# 1. Write a code to reverse a string.\n",
    "\n",
    "str = \"Hellow World\""
   ]
  },
  {
   "cell_type": "code",
   "execution_count": 8,
   "metadata": {},
   "outputs": [
    {
     "data": {
      "text/plain": [
       "str"
      ]
     },
     "execution_count": 8,
     "metadata": {},
     "output_type": "execute_result"
    }
   ],
   "source": [
    "type(str)"
   ]
  },
  {
   "cell_type": "code",
   "execution_count": 9,
   "metadata": {},
   "outputs": [
    {
     "data": {
      "text/plain": [
       "'dlroW wolleH'"
      ]
     },
     "execution_count": 9,
     "metadata": {},
     "output_type": "execute_result"
    }
   ],
   "source": [
    "str[::-1]"
   ]
  },
  {
   "cell_type": "code",
   "execution_count": 28,
   "metadata": {},
   "outputs": [],
   "source": [
    "# 2. Write a code to  count the number of vowel in a string.\n",
    "\n",
    "str1 = \"Some sang in close harmony\"\n",
    "vowels = \"aieou\"\n",
    "\n",
    "vowel_count = sum(str1.count(vowel) for vowel in vowels)"
   ]
  },
  {
   "cell_type": "code",
   "execution_count": 29,
   "metadata": {},
   "outputs": [
    {
     "name": "stdout",
     "output_type": "stream",
     "text": [
      "8\n"
     ]
    }
   ],
   "source": [
    "print(vowel_count)\n"
   ]
  },
  {
   "cell_type": "code",
   "execution_count": 4,
   "metadata": {},
   "outputs": [
    {
     "name": "stdout",
     "output_type": "stream",
     "text": [
      "palindrome\n"
     ]
    }
   ],
   "source": [
    "# 3. Write a code to check if a given string is a palindrome or not.\n",
    "\n",
    "weather = \"rainy\"\n",
    "\n",
    "if weather == \"rainy\":\n",
    "    print(\"palindrome\")\n",
    "else:\n",
    "    print(\"not\")"
   ]
  },
  {
   "cell_type": "code",
   "execution_count": 5,
   "metadata": {},
   "outputs": [
    {
     "name": "stdout",
     "output_type": "stream",
     "text": [
      "Both the string are anagram\n"
     ]
    }
   ],
   "source": [
    "# 4. write a code to check if two given strings are anagrams of each other.\n",
    "\n",
    "strg1 = \"Date\"\n",
    "strg2 = \"Rate\"\n",
    "\n",
    "if len(strg1) == len(strg2):\n",
    "    print(\"Both the string are anagram\")\n",
    "else:\n",
    "    print(\"Both the string are not anagram\")"
   ]
  },
  {
   "cell_type": "code",
   "execution_count": 7,
   "metadata": {},
   "outputs": [
    {
     "name": "stdout",
     "output_type": "stream",
     "text": [
      "All substring found!\n",
      "All substring found!\n",
      "All substring found!\n",
      "Substring are not found!\n"
     ]
    }
   ],
   "source": [
    "# 5. Write a code to find all occurrences of a given substring within another string.\n",
    "\n",
    "strng = \"Welcome to Python Program\"\n",
    "\n",
    "substr =[\"l\" , \"u\" , \"e\"]\n",
    "\n",
    "for sub in substr:\n",
    "    print(\"All substring found!\")\n",
    "\n",
    "else:\n",
    "    print(\"Substring are not found!\")"
   ]
  },
  {
   "cell_type": "code",
   "execution_count": 1,
   "metadata": {},
   "outputs": [],
   "source": [
    "# 6. Write a code to  perform basic string compression using the counts of repeated characters. "
   ]
  },
  {
   "cell_type": "code",
   "execution_count": 25,
   "metadata": {},
   "outputs": [
    {
     "name": "stdout",
     "output_type": "stream",
     "text": [
      "True\n"
     ]
    }
   ],
   "source": [
    "# 7. Write a code to determine if a string has all unique characters.\n",
    "\n",
    "def has_unique_characters(s):\n",
    "    seen_chars = set()\n",
    "\n",
    "    for char in s:\n",
    "        if char in seen_chars:\n",
    "            seen_chars.add(char)\n",
    "\n",
    "    return True\n",
    "stringss = \"Hello\"\n",
    "\n",
    "print(has_unique_characters(stringss))"
   ]
  },
  {
   "cell_type": "code",
   "execution_count": 3,
   "metadata": {},
   "outputs": [],
   "source": [
    "# 8. Write a code to convert a given string to uppercase or lowercase.\n",
    "\n",
    "text = \"Hello World\""
   ]
  },
  {
   "cell_type": "code",
   "execution_count": 5,
   "metadata": {},
   "outputs": [
    {
     "data": {
      "text/plain": [
       "'HELLO WORLD'"
      ]
     },
     "execution_count": 5,
     "metadata": {},
     "output_type": "execute_result"
    }
   ],
   "source": [
    "text.upper()"
   ]
  },
  {
   "cell_type": "code",
   "execution_count": 6,
   "metadata": {},
   "outputs": [
    {
     "data": {
      "text/plain": [
       "'hello world'"
      ]
     },
     "execution_count": 6,
     "metadata": {},
     "output_type": "execute_result"
    }
   ],
   "source": [
    "text.lower()"
   ]
  },
  {
   "cell_type": "code",
   "execution_count": 18,
   "metadata": {},
   "outputs": [],
   "source": [
    "# 9. Write a code to count the number of words in a string."
   ]
  },
  {
   "cell_type": "code",
   "execution_count": 19,
   "metadata": {},
   "outputs": [],
   "source": [
    "name = \"Durgesh\""
   ]
  },
  {
   "cell_type": "code",
   "execution_count": 20,
   "metadata": {},
   "outputs": [
    {
     "data": {
      "text/plain": [
       "7"
      ]
     },
     "execution_count": 20,
     "metadata": {},
     "output_type": "execute_result"
    }
   ],
   "source": [
    "len(name)"
   ]
  },
  {
   "cell_type": "code",
   "execution_count": 21,
   "metadata": {},
   "outputs": [],
   "source": [
    "# 10. Write a code to concatenate two strings without using the + operator.\n",
    "\n",
    "str3 = \"apple\"\n",
    "str4 = \"banana\""
   ]
  },
  {
   "cell_type": "code",
   "execution_count": 28,
   "metadata": {},
   "outputs": [
    {
     "data": {
      "text/plain": [
       "'apple banana'"
      ]
     },
     "execution_count": 28,
     "metadata": {},
     "output_type": "execute_result"
    }
   ],
   "source": [
    "\" \".join([str3,str4])"
   ]
  },
  {
   "cell_type": "code",
   "execution_count": 29,
   "metadata": {},
   "outputs": [],
   "source": [
    "# 11. Write a code to remove all occurrences of a specific element from a list. "
   ]
  },
  {
   "cell_type": "code",
   "execution_count": 54,
   "metadata": {},
   "outputs": [],
   "source": [
    "book_list = [\"Data Science\" , \"Data Analytical\" , \"DataBase\" , \"Data Structure\"]"
   ]
  },
  {
   "cell_type": "code",
   "execution_count": 55,
   "metadata": {},
   "outputs": [
    {
     "name": "stdout",
     "output_type": "stream",
     "text": [
      "['Data Science', 'Data Analytical', 'DataBase', 'Data Structure']\n"
     ]
    }
   ],
   "source": [
    "print(book_list)"
   ]
  },
  {
   "cell_type": "code",
   "execution_count": 56,
   "metadata": {},
   "outputs": [],
   "source": [
    "book_list.remove(\"DataBase\")"
   ]
  },
  {
   "cell_type": "code",
   "execution_count": 57,
   "metadata": {},
   "outputs": [
    {
     "data": {
      "text/plain": [
       "['Data Science', 'Data Analytical', 'Data Structure']"
      ]
     },
     "execution_count": 55,
     "metadata": {},
     "output_type": "execute_result"
    }
   ],
   "source": [
    "book_list"
   ]
  },
  {
   "cell_type": "code",
   "execution_count": 59,
   "metadata": {},
   "outputs": [],
   "source": [
    "# 12. Implement a code to find the second largest number in a given list of integers. "
   ]
  },
  {
   "cell_type": "code",
   "execution_count": 68,
   "metadata": {},
   "outputs": [],
   "source": [
    "numbers = [10, 20, 4, 45, 99]\n",
    "\n",
    "number.sort()"
   ]
  },
  {
   "cell_type": "code",
   "execution_count": 64,
   "metadata": {},
   "outputs": [
    {
     "data": {
      "text/plain": [
       "[4, 10, 20, 45, 99]"
      ]
     },
     "execution_count": 62,
     "metadata": {},
     "output_type": "execute_result"
    }
   ],
   "source": [
    "number"
   ]
  },
  {
   "cell_type": "code",
   "execution_count": 69,
   "metadata": {},
   "outputs": [],
   "source": [
    "# 13. Create a code to count the occurrences of each element in a list and return a dictionary with elements as key and their counts as values."
   ]
  },
  {
   "cell_type": "code",
   "execution_count": 80,
   "metadata": {},
   "outputs": [],
   "source": [
    "list = [\"Data Science\" , \"Data Analytical\" , \"DataBase\" , \"Data Structure\"]"
   ]
  },
  {
   "cell_type": "code",
   "execution_count": 81,
   "metadata": {},
   "outputs": [
    {
     "name": "stdout",
     "output_type": "stream",
     "text": [
      "4\n"
     ]
    }
   ],
   "source": [
    "print(len(list))"
   ]
  },
  {
   "cell_type": "code",
   "execution_count": 82,
   "metadata": {},
   "outputs": [],
   "source": [
    "d = {\"name\": \"Durgesh\" , \"email\": \"durgesh@gmail.com\", \"mobile\":1234 }"
   ]
  },
  {
   "cell_type": "code",
   "execution_count": 83,
   "metadata": {},
   "outputs": [
    {
     "name": "stdout",
     "output_type": "stream",
     "text": [
      "3\n"
     ]
    }
   ],
   "source": [
    "print(len(d))"
   ]
  },
  {
   "cell_type": "code",
   "execution_count": 85,
   "metadata": {},
   "outputs": [],
   "source": [
    "# 14. Write a  code to reverse a list in-place without using any built-in reverse functions."
   ]
  },
  {
   "cell_type": "code",
   "execution_count": 96,
   "metadata": {},
   "outputs": [],
   "source": [
    "def reverse_list(lst):\n",
    "    left = 0\n",
    "    right = len(lst) - 1\n",
    "    while left < right:\n",
    "        lst[left], lst[right] = lst[right], lst[left]\n",
    "        left += 1\n",
    "        right -= 1\n",
    "my_list = [1, 2, 3, 4, 5]\n",
    "reverse_list(my_list)"
   ]
  },
  {
   "cell_type": "code",
   "execution_count": 97,
   "metadata": {},
   "outputs": [
    {
     "name": "stdout",
     "output_type": "stream",
     "text": [
      "[5, 4, 3, 2, 1]\n"
     ]
    }
   ],
   "source": [
    "print(my_list)"
   ]
  },
  {
   "cell_type": "code",
   "execution_count": 1,
   "metadata": {},
   "outputs": [],
   "source": [
    "# 15. Implement  a code to find and remove duplicates from a list while preserving the original order of elements."
   ]
  },
  {
   "cell_type": "code",
   "execution_count": 4,
   "metadata": {},
   "outputs": [],
   "source": [
    "original_list = [1, 2, 3, 4, 2, 1, 5, 8, 3]\n",
    "\n",
    "unique_list = []\n",
    "for x in original_list:\n",
    "    if x not in unique_list:\n",
    "        unique_list.append(x)"
   ]
  },
  {
   "cell_type": "code",
   "execution_count": 6,
   "metadata": {},
   "outputs": [
    {
     "name": "stdout",
     "output_type": "stream",
     "text": [
      "[1, 2, 3, 4, 5, 8]\n"
     ]
    }
   ],
   "source": [
    "print(unique_list)"
   ]
  },
  {
   "cell_type": "code",
   "execution_count": 27,
   "metadata": {},
   "outputs": [],
   "source": [
    "# 16. Create a code to check if a given list is sorted(either in ascending or descending order) or not.\n",
    "def is_sorted(lst):\n",
    "    ascending = all(lst[i] <= lst[i+1] for i in range(len(lst) - 1))\n",
    "    descending = all(lst[i] >= lst[i+1] for i in range(len(lst) - 1))\n",
    "\n",
    "    if ascending:\n",
    "        return \"The List is sorted in ascending order.\"\n",
    "    elif descending:\n",
    "        return \"The list is sorted in descending order.\"\n",
    "    else:\n",
    "        return \"The list is not sorted.\"\n",
    "\n",
    "My_list1 = [1, 2, 3, 4, 5]\n",
    "My_list2 = [5, 4, 3, 2, 1]\n",
    "My_list3 = [4, 2, 3, 1]"
   ]
  },
  {
   "cell_type": "code",
   "execution_count": 28,
   "metadata": {},
   "outputs": [
    {
     "name": "stdout",
     "output_type": "stream",
     "text": [
      "The List is sorted in ascending order.\n"
     ]
    }
   ],
   "source": [
    "# Ascending\n",
    "print(is_sorted(My_list1))"
   ]
  },
  {
   "cell_type": "code",
   "execution_count": 29,
   "metadata": {},
   "outputs": [
    {
     "name": "stdout",
     "output_type": "stream",
     "text": [
      "The list is sorted in descending order.\n"
     ]
    }
   ],
   "source": [
    "# Descending\n",
    "print(is_sorted(My_list2))"
   ]
  },
  {
   "cell_type": "code",
   "execution_count": 30,
   "metadata": {},
   "outputs": [
    {
     "name": "stdout",
     "output_type": "stream",
     "text": [
      "The list is not sorted.\n"
     ]
    }
   ],
   "source": [
    "# Not Sorted\n",
    "print(is_sorted(My_list3))"
   ]
  },
  {
   "cell_type": "code",
   "execution_count": 8,
   "metadata": {},
   "outputs": [],
   "source": [
    "#. 17. Write a code to merge two sorted lists into a single sorted list."
   ]
  },
  {
   "cell_type": "code",
   "execution_count": 16,
   "metadata": {},
   "outputs": [],
   "source": [
    "def merge_sort_list(a, b):\n",
    "    merged = []\n",
    "    i = j = 0\n",
    "    while i < len(a) and j < len(b):\n",
    "        if a[i] < b[j]:\n",
    "            merged.append(a[i])\n",
    "            i += 1\n",
    "        else:\n",
    "            merged.append(b[j])\n",
    "            j +=1\n",
    "    merged.extend(a[i:])\n",
    "    merged.extend(b[j:])\n",
    "    return merged\n",
    "list1 = [1, 3, 5]\n",
    "list2 = [2, 4, 6]\n",
    "merged_list = merge_sort_list(list1, list2)"
   ]
  },
  {
   "cell_type": "code",
   "execution_count": 17,
   "metadata": {},
   "outputs": [
    {
     "name": "stdout",
     "output_type": "stream",
     "text": [
      "[1, 2, 3, 4, 5, 6]\n"
     ]
    }
   ],
   "source": [
    "print(merged_list)"
   ]
  },
  {
   "cell_type": "code",
   "execution_count": 18,
   "metadata": {},
   "outputs": [],
   "source": [
    "# 18. Implement a code to find the intersection of two given lists."
   ]
  },
  {
   "cell_type": "code",
   "execution_count": 32,
   "metadata": {},
   "outputs": [],
   "source": [
    "lis1 = [1, 2, 3, 4, 5]\n",
    "lis2 = [4, 5, 6, 7, 8]\n",
    "\n",
    "intersection = [item for item in lis1 if item in lis2]\n"
   ]
  },
  {
   "cell_type": "code",
   "execution_count": 33,
   "metadata": {},
   "outputs": [
    {
     "name": "stdout",
     "output_type": "stream",
     "text": [
      "[4, 5]\n"
     ]
    }
   ],
   "source": [
    "print(intersection)"
   ]
  },
  {
   "cell_type": "code",
   "execution_count": 34,
   "metadata": {},
   "outputs": [],
   "source": [
    "# 19. Create a code to find the union of two lists without duplicates."
   ]
  },
  {
   "cell_type": "code",
   "execution_count": 35,
   "metadata": {},
   "outputs": [],
   "source": [
    "lis1 = [1, 2, 3, 4, 5]\n",
    "lis2 = [4, 5, 6, 7, 8]\n",
    "\n",
    "union = list(set(lis1) | set(lis2))"
   ]
  },
  {
   "cell_type": "code",
   "execution_count": 36,
   "metadata": {},
   "outputs": [
    {
     "name": "stdout",
     "output_type": "stream",
     "text": [
      "[1, 2, 3, 4, 5, 6, 7, 8]\n"
     ]
    }
   ],
   "source": [
    "print(union)"
   ]
  },
  {
   "cell_type": "code",
   "execution_count": 37,
   "metadata": {},
   "outputs": [],
   "source": [
    "# 20. Write a code to shuffle a given list randomly without using any built-in shuffle function."
   ]
  },
  {
   "cell_type": "code",
   "execution_count": 38,
   "metadata": {},
   "outputs": [],
   "source": [
    "# 21. Write a code that takes two tuples as input and returns a new tuple containing elements that are common to both input tuples."
   ]
  },
  {
   "cell_type": "code",
   "execution_count": 41,
   "metadata": {},
   "outputs": [],
   "source": [
    "tuple1 = (1, 2, 3, 4, 5)\n",
    "tuple2 = (4, 5, 6, 7, 8)\n",
    "\n",
    "set1 = set(tuple1)\n",
    "set2 = set(tuple2)\n",
    "\n",
    "common_set = set1 & set2"
   ]
  },
  {
   "cell_type": "code",
   "execution_count": 42,
   "metadata": {},
   "outputs": [
    {
     "name": "stdout",
     "output_type": "stream",
     "text": [
      "{4, 5}\n"
     ]
    }
   ],
   "source": [
    "print(common_set)"
   ]
  },
  {
   "cell_type": "code",
   "execution_count": 41,
   "metadata": {},
   "outputs": [
    {
     "name": "stdin",
     "output_type": "stream",
     "text": [
      "Enter the first set of integers (separated by commas):  1, 2, 3, 4\n",
      "Enter the second set of integers (separated by commas):  4, 5, 6, 7\n"
     ]
    },
    {
     "name": "stdout",
     "output_type": "stream",
     "text": [
      "The intersection of the two sets is: {4}\n"
     ]
    }
   ],
   "source": [
    "# 22. Create a  code that prompts the user to enter two sets of integers separated by commos.Then,print the intersection of these two sets.\n",
    "\n",
    "def get_set_input(prompt):\n",
    "    user_input = input(prompt)\n",
    "    return set(map(int, user_input.split(',')))\n",
    "\n",
    "set9 = get_set_input(\"Enter the first set of integers (separated by commas): \")\n",
    "set10 = get_set_input(\"Enter the second set of integers (separated by commas): \")\n",
    "\n",
    "intersection = set9 & set10\n",
    "\n",
    "print(\"The intersection of the two sets is:\", intersection)"
   ]
  },
  {
   "cell_type": "code",
   "execution_count": 49,
   "metadata": {},
   "outputs": [],
   "source": [
    "# 23. Write a code to concatenate two tuples.The function should take two tuples as input and return a new tuple containing elements from both input tuples."
   ]
  },
  {
   "cell_type": "code",
   "execution_count": 51,
   "metadata": {},
   "outputs": [],
   "source": [
    "tup1 = (1, 2, 3)\n",
    "tup2 = (4, 5, 6)\n",
    "\n",
    "result = (tup1 + tup2)"
   ]
  },
  {
   "cell_type": "code",
   "execution_count": 52,
   "metadata": {},
   "outputs": [
    {
     "name": "stdout",
     "output_type": "stream",
     "text": [
      "(1, 2, 3, 4, 5, 6)\n"
     ]
    }
   ],
   "source": [
    "print(result)"
   ]
  },
  {
   "cell_type": "code",
   "execution_count": 3,
   "metadata": {},
   "outputs": [
    {
     "name": "stdin",
     "output_type": "stream",
     "text": [
      "Enter the first set of strings (space-separated):  1, 2, 3, 4\n",
      "Enter the second set of strings (space-separated):  4, 5, 6, 7\n"
     ]
    },
    {
     "name": "stdout",
     "output_type": "stream",
     "text": [
      "The elements present in the first set but not in the second set are: {'3,', '1,', '4', '2,'}\n"
     ]
    }
   ],
   "source": [
    "# 24. Develop a code that prompts the user to input two sets of strings. Then, print the elements that are present in the first set but not in the second set.\n",
    "\n",
    "def get_set_input(prompt):\n",
    "    user_input = input(prompt)\n",
    "    return set(user_input.split())\n",
    "\n",
    "set3 = get_set_input(\"Enter the first set of strings (space-separated): \")\n",
    "set4 = get_set_input(\"Enter the second set of strings (space-separated): \")\n",
    "\n",
    "difference_set = set3 - set4\n",
    "print(f\"The elements present in the first set but not in the second set are: {difference_set}\")"
   ]
  },
  {
   "cell_type": "code",
   "execution_count": 33,
   "metadata": {},
   "outputs": [
    {
     "name": "stdout",
     "output_type": "stream",
     "text": [
      "(30, 40, 50)\n"
     ]
    }
   ],
   "source": [
    "# 25. Create a code that takes a tuple and two integers as input. The function should return a new tuple containing elements from the original tuple within the specified range of indices.\n",
    "\n",
    "def slice_tuple(input_tuple, start_index, end_index):\n",
    "    return input_tuple[start_index:end_index]\n",
    "\n",
    "original_tuple = (10, 20, 30, 40, 50, 60)\n",
    "start = 2\n",
    "end = 5\n",
    "\n",
    "new_tuple = slice_tuple(original_tuple, start, end)\n",
    "print(new_tuple)"
   ]
  },
  {
   "cell_type": "code",
   "execution_count": 5,
   "metadata": {},
   "outputs": [
    {
     "name": "stdin",
     "output_type": "stream",
     "text": [
      "Enter the first set of characters:  1, 2, 3, 4\n",
      "Enter the second set of characters:  4, 5, 6, 7\n"
     ]
    },
    {
     "name": "stdout",
     "output_type": "stream",
     "text": [
      "The union of the two sets is: {'7', '1', '4', '5', '2', '3', ' ', ',', '6'}\n"
     ]
    }
   ],
   "source": [
    "# 26. Write a code that prompts the user to input two sets of characters. Then, print the union of these two sets.\n",
    "\n",
    "def get_set_input(prompt):\n",
    "    user_input = input(prompt)\n",
    "    return set(user_input)\n",
    "\n",
    "set5 = get_set_input(\"Enter the first set of characters: \")\n",
    "set6 = get_set_input(\"Enter the second set of characters: \")\n",
    "\n",
    "union_set = set5 | set6\n",
    "\n",
    "print(f\"The union of the two sets is: {union_set}\")"
   ]
  },
  {
   "cell_type": "code",
   "execution_count": 79,
   "metadata": {},
   "outputs": [
    {
     "name": "stdout",
     "output_type": "stream",
     "text": [
      "Max value: 9, Min value: 1\n"
     ]
    }
   ],
   "source": [
    "# 27. Develop a code that takes a tuple of integers as input. The function should return the maximum and minimum values from the tuple using tuple unpacking.\n",
    "\n",
    "def find_max_min(numbers: tuple) ->tuple:\n",
    "    if not numbers:\n",
    "        return None, None\n",
    "\n",
    "    max_value, min_value = max(numbers), min(numbers)\n",
    "\n",
    "    return max_value, min_value\n",
    "\n",
    "input_tuple = (5, 3, 9, 1, 7, 6)\n",
    "max_val, min_val = find_max_min(input_tuple)\n",
    "\n",
    "print(f\"Max value: {max_val}, Min value: {min_val}\")"
   ]
  },
  {
   "cell_type": "code",
   "execution_count": 99,
   "metadata": {},
   "outputs": [],
   "source": [
    "# 28. Create a code that defines two sets of integers. Then, print the union, intersection, and difference of these two sets.\n",
    "\n",
    "s1 = {\"Hiking\" , \"Reading\" , \"Coding\"}\n",
    "s2 = {\"Coding\" , \"Photography\" , \"Travelling\"}"
   ]
  },
  {
   "cell_type": "code",
   "execution_count": 100,
   "metadata": {},
   "outputs": [
    {
     "data": {
      "text/plain": [
       "{'Coding', 'Hiking', 'Photography', 'Reading', 'Travelling'}"
      ]
     },
     "execution_count": 100,
     "metadata": {},
     "output_type": "execute_result"
    }
   ],
   "source": [
    "#union\n",
    "s1 | s2"
   ]
  },
  {
   "cell_type": "code",
   "execution_count": 101,
   "metadata": {},
   "outputs": [
    {
     "data": {
      "text/plain": [
       "{'Coding'}"
      ]
     },
     "execution_count": 101,
     "metadata": {},
     "output_type": "execute_result"
    }
   ],
   "source": [
    "#intersection\n",
    "s1 & s2"
   ]
  },
  {
   "cell_type": "code",
   "execution_count": 102,
   "metadata": {},
   "outputs": [
    {
     "data": {
      "text/plain": [
       "{'Hiking', 'Reading'}"
      ]
     },
     "execution_count": 102,
     "metadata": {},
     "output_type": "execute_result"
    }
   ],
   "source": [
    "#differences\n",
    "s1 - s2"
   ]
  },
  {
   "cell_type": "code",
   "execution_count": 13,
   "metadata": {},
   "outputs": [
    {
     "name": "stdin",
     "output_type": "stream",
     "text": [
      "Enter the tuple elements (comma-separated):  Apple,Banana,Apple,Mango,Apple\n",
      "Enter the element to count:  Apple\n"
     ]
    },
    {
     "name": "stdout",
     "output_type": "stream",
     "text": [
      "The element 'Apple' appears 3 time(s) in the tuple.\n"
     ]
    }
   ],
   "source": [
    "# 29. Write a code that takes a tuple and an element as input. The function should return the count of occurrences of the given element in the tuple.\n",
    "\n",
    "def count_occurrences(tup, element):\n",
    "    return tup.count(element)\n",
    "\n",
    "input_tuple = tuple(input(\"Enter the tuple elements (comma-separated): \").split(','))\n",
    "element = input(\"Enter the element to count: \")\n",
    "\n",
    "occurrences = count_occurrences(input_tuple, element)\n",
    "\n",
    "print(f\"The element '{element}' appears {occurrences} time(s) in the tuple.\")"
   ]
  },
  {
   "cell_type": "code",
   "execution_count": 15,
   "metadata": {},
   "outputs": [
    {
     "name": "stdin",
     "output_type": "stream",
     "text": [
      "Enter the first set of characters:  1, 2, 3, 4\n",
      "Enter the second set of characters:  4, 5, 6, 7\n"
     ]
    },
    {
     "name": "stdout",
     "output_type": "stream",
     "text": [
      "The symmetric difference of the two sets is: {'7', '1,', '2,', '4', '3,', '5,', '4,', '6,'}\n"
     ]
    }
   ],
   "source": [
    "# 30. Develop a code that prompts the user to input two sets of strings. Then, print the symmetric difference of these two sets.\n",
    "def get_set_input(prompt):\n",
    "    user_input = input(prompt)\n",
    "    return set(user_input.split())\n",
    "\n",
    "set7 = get_set_input(\"Enter the first set of characters: \")\n",
    "set8 = get_set_input(\"Enter the second set of characters: \")\n",
    "\n",
    "symmetric_difference = set7 ^ set8\n",
    "\n",
    "print(f\"The symmetric difference of the two sets is: {symmetric_difference}\")"
   ]
  },
  {
   "cell_type": "code",
   "execution_count": 16,
   "metadata": {},
   "outputs": [
    {
     "name": "stdout",
     "output_type": "stream",
     "text": [
      "{'apple': 3, 'banana': 2, 'orange': 1}\n"
     ]
    }
   ],
   "source": [
    "# 31. Write a code that takes a list of words as input and returns a dictionary where the keys are unique words and the values are the frequencies of those words in the input list.\n",
    "\n",
    "from collections import Counter\n",
    "def word_frequencies(word_list):\n",
    "    return dict(Counter(word_list))\n",
    "\n",
    "input_words = [\"apple\", \"banana\", \"apple\", \"orange\", \"banana\", \"apple\"]\n",
    "result = word_frequencies(input_words)\n",
    "print(result)"
   ]
  },
  {
   "cell_type": "code",
   "execution_count": 17,
   "metadata": {},
   "outputs": [
    {
     "name": "stdout",
     "output_type": "stream",
     "text": [
      "{'a': 5, 'b': 7, 'c': 3, 'd': 6}\n"
     ]
    }
   ],
   "source": [
    "# 32. Write a code that takes two dictionaries as input and merges them into a single dictionary. If there are common keys, the values should be added together.\n",
    "\n",
    "def merge_dictionaries(dict1, dict2):\n",
    "    merged_dict = dict1.copy()\n",
    "\n",
    "    for key, value in dict2.items():\n",
    "        if key in merged_dict:\n",
    "            merged_dict[key] += value\n",
    "        else:\n",
    "            merged_dict[key] = value\n",
    "    return merged_dict\n",
    "\n",
    "dict1 = {'a': 1, 'b': 2, 'c': 3}\n",
    "dict2 = {'a': 4, 'b': 5, 'd': 6}\n",
    "\n",
    "merged = merge_dictionaries(dict1, dict2)\n",
    "\n",
    "print(merged)"
   ]
  },
  {
   "cell_type": "code",
   "execution_count": 18,
   "metadata": {},
   "outputs": [],
   "source": [
    "# 33. Write a code to access a value in a nested dictionary. The function should take the dictionary and a list of keys as input, and return the corresponding value. If any of the keys do not exist in the dictionary, the function should return None."
   ]
  },
  {
   "cell_type": "code",
   "execution_count": 19,
   "metadata": {},
   "outputs": [],
   "source": [
    "# 34. Write a code that takes a dictionary as input and returns a sorted version of it based on the values. You can choose whether to sort in ascending or descending order.def sort_dict_by_value(d, descending= False):\n",
    "\n",
    "def sort_dict_by_value(d, descending=False):\n",
    "    sorted_items = sorted(d.items(), key=lambda item: item[1], reverse=descending)\n",
    "    return dict(sorted_items)\n",
    "d = {'a': 3, 'b': 1, 'c': 2}"
   ]
  },
  {
   "cell_type": "code",
   "execution_count": 20,
   "metadata": {},
   "outputs": [
    {
     "name": "stdout",
     "output_type": "stream",
     "text": [
      "{'b': 1, 'c': 2, 'a': 3}\n"
     ]
    }
   ],
   "source": [
    "sorted_asc = sort_dict_by_value(d)\n",
    "print(sorted_asc)"
   ]
  },
  {
   "cell_type": "code",
   "execution_count": 21,
   "metadata": {},
   "outputs": [
    {
     "name": "stdout",
     "output_type": "stream",
     "text": [
      "{'a': 3, 'c': 2, 'b': 1}\n"
     ]
    }
   ],
   "source": [
    "sorted_desc = sort_dict_by_value(d, descending=True)\n",
    "print(sorted_desc)"
   ]
  },
  {
   "cell_type": "code",
   "execution_count": 32,
   "metadata": {},
   "outputs": [
    {
     "name": "stdout",
     "output_type": "stream",
     "text": [
      "{1: ['a', 'c'], 2: ['b'], 3: ['d']}\n"
     ]
    }
   ],
   "source": [
    "# 35. Write a code that inverts a dictionary, swapping keys and values. Ensure that the inverted dictionary correctly handles cases where multiple keys have the same value by storing the keys as a list in the inverted dictionary.\n",
    "\n",
    "def invert_dict(original_dict):\n",
    "    inverted_dict = {}\n",
    "\n",
    "    for key, value in original_dict.items():\n",
    "        if value in inverted_dict:\n",
    "            inverted_dict[value].append(key)\n",
    "        else:\n",
    "            inverted_dict[value] = [key]\n",
    "    return inverted_dict\n",
    "\n",
    "original_dict = { \"a\": 1, \"b\": 2, \"c\": 1, \"d\": 3}\n",
    "inverted = invert_dict(original_dict)\n",
    "print(inverted)"
   ]
  }
 ],
 "metadata": {
  "kernelspec": {
   "display_name": "Python 3 (ipykernel)",
   "language": "python",
   "name": "python3"
  },
  "language_info": {
   "codemirror_mode": {
    "name": "ipython",
    "version": 3
   },
   "file_extension": ".py",
   "mimetype": "text/x-python",
   "name": "python",
   "nbconvert_exporter": "python",
   "pygments_lexer": "ipython3",
   "version": "3.13.0"
  }
 },
 "nbformat": 4,
 "nbformat_minor": 4
}
